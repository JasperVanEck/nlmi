{
 "cells": [
  {
   "cell_type": "markdown",
   "metadata": {},
   "source": [
    "# HMM Experiments"
   ]
  },
  {
   "cell_type": "code",
   "execution_count": 1,
   "metadata": {
    "collapsed": true
   },
   "outputs": [],
   "source": [
    "# Read annotated corpora with NLTK\n",
    "# first download data\n",
    "import nltk\n",
    "#nltk.download()\n",
    "# it will open a GUI and you have to double click in \"all\" to download \n",
    "# this will download different types of annotated corpora"
   ]
  },
  {
   "cell_type": "markdown",
   "metadata": {},
   "source": [
    "Here is the complete **PTB** data"
   ]
  },
  {
   "cell_type": "code",
   "execution_count": 12,
   "metadata": {
    "collapsed": true
   },
   "outputs": [],
   "source": [
    "# inspect PoS from Treebank\n",
    "# we use the universal tagset\n",
    "treebank_sents = nltk.corpus.treebank.tagged_sents(tagset='universal')"
   ]
  },
  {
   "cell_type": "markdown",
   "metadata": {},
   "source": [
    "Now we load the ids of sentences corresponding to training, development, and test sets"
   ]
  },
  {
   "cell_type": "code",
   "execution_count": 11,
   "metadata": {},
   "outputs": [
    {
     "name": "stdout",
     "output_type": "stream",
     "text": [
      "3000 114 800\n"
     ]
    }
   ],
   "source": [
    "training_ids = [int(i) for i in open('training.ids') if i.strip()]\n",
    "development_ids = [int(i) for i in open('development.ids') if i.strip()]\n",
    "test_ids = [int(i) for i in open('test.ids') if i.strip()]\n",
    "print(len(training_ids), len(development_ids), len(test_ids))"
   ]
  },
  {
   "cell_type": "markdown",
   "metadata": {},
   "source": [
    "Now we separate the 3 parts of the annotation"
   ]
  },
  {
   "cell_type": "code",
   "execution_count": 14,
   "metadata": {
    "collapsed": true
   },
   "outputs": [],
   "source": [
    "ptb_training = [treebank_sents[i] for i in training_ids]\n",
    "ptb_development = [treebank_sents[i] for i in development_ids]\n",
    "ptb_test = [treebank_sents[i] for i in test_ids]"
   ]
  },
  {
   "cell_type": "markdown",
   "metadata": {},
   "source": [
    "1. We *suggest* you print details about the data such as number of unique words/tags, total tokens, number of sentences, etc.\n",
    "2. Then you can copy here your implementation from lab4 or import it from a separate python file if you want (but make sure to submit those too)\n",
    "3. Then you can go on with training/development and test"
   ]
  },
  {
   "cell_type": "markdown",
   "metadata": {},
   "source": [
    "The following are just **tips** (you need not necessarily follow them)."
   ]
  },
  {
   "cell_type": "code",
   "execution_count": 7,
   "metadata": {
    "collapsed": true
   },
   "outputs": [],
   "source": [
    "# Grid search for hyperparameters\n",
    "models = []\n",
    "for alpha in [0.01, 0.1, 1., 10.]:\n",
    "    for beta in [0.01, 0.1, 1., 10.]:        \n",
    "        pass # train models for different values of alpha and beta"
   ]
  },
  {
   "cell_type": "code",
   "execution_count": 8,
   "metadata": {},
   "outputs": [
    {
     "name": "stdout",
     "output_type": "stream",
     "text": [
      "  alpha    beta    ppl\n",
      "-------  ------  -----\n",
      "    0.1     0.1   99.5\n",
      "    0.1     1    102.5\n"
     ]
    }
   ],
   "source": [
    "# Nice tables with `tabulate` \n",
    "#  you can install this python module with `pip install tabulate`\n",
    "# It's nice and easy to show good looking tables with it, for example\n",
    "from tabulate import tabulate  # you may need to run `pip install tabulate`\n",
    "results = [[0.1, 0.1, 99.5], [0.1, 1., 102.5]]  # these numbers are made up\n",
    "headers = ['alpha', 'beta', 'ppl']\n",
    "print(tabulate(results, headers=headers))"
   ]
  },
  {
   "cell_type": "markdown",
   "metadata": {},
   "source": [
    "You can also use *tabulate* to print some examples. For example:"
   ]
  },
  {
   "cell_type": "code",
   "execution_count": 9,
   "metadata": {
    "collapsed": true
   },
   "outputs": [],
   "source": [
    "def tabulate_example(sentence, gold_pos, pred_pos):\n",
    "    illustration = []\n",
    "    for w, g, p in zip(sentence, gold_pos, pred_pos):\n",
    "        illustration.append([w, g, p])\n",
    "    return illustration"
   ]
  },
  {
   "cell_type": "code",
   "execution_count": 10,
   "metadata": {},
   "outputs": [
    {
     "name": "stdout",
     "output_type": "stream",
     "text": [
      "Made up example\n",
      "Word    Gold    Pred\n",
      "------  ------  ------\n",
      "x1      g1      c1\n",
      "x2      g2      c2\n",
      "x3      g3      c3\n",
      "x4      g4      c4\n",
      "\n"
     ]
    }
   ],
   "source": [
    "sentence = ['x1', 'x2', 'x3', 'x4']\n",
    "gold = ['g1', 'g2', 'g3', 'g4']\n",
    "pred = ['c1', 'c2', 'c3', 'c4']\n",
    "print('Made up example')\n",
    "illustration = tabulate_example(sentence, gold, pred)\n",
    "print(tabulate(illustration, headers=['Word', 'Gold', 'Pred']))\n",
    "print()"
   ]
  },
  {
   "cell_type": "code",
   "execution_count": null,
   "metadata": {
    "collapsed": true
   },
   "outputs": [],
   "source": []
  }
 ],
 "metadata": {
  "kernelspec": {
   "display_name": "Python 3",
   "language": "python",
   "name": "python3"
  },
  "language_info": {
   "codemirror_mode": {
    "name": "ipython",
    "version": 3
   },
   "file_extension": ".py",
   "mimetype": "text/x-python",
   "name": "python",
   "nbconvert_exporter": "python",
   "pygments_lexer": "ipython3",
   "version": "3.4.2"
  }
 },
 "nbformat": 4,
 "nbformat_minor": 2
}
